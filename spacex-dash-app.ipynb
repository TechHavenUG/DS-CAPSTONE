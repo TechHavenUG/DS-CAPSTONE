{
 "cells": [
  {
   "cell_type": "code",
   "execution_count": 2,
   "id": "1ec3366f-367f-47ae-b88f-566011733265",
   "metadata": {},
   "outputs": [],
   "source": [
    "# Import required libraries\n",
    "import pandas as pd\n",
    "import dash\n",
    "from dash import html\n",
    "from dash import dcc\n",
    "from dash.dependencies import Input, Output\n",
    "import plotly.express as px"
   ]
  },
  {
   "cell_type": "markdown",
   "id": "70cc7a0a-8cf1-4d8f-8f43-9a7e4269ae6a",
   "metadata": {},
   "source": [
    "## Read Data"
   ]
  },
  {
   "cell_type": "code",
   "execution_count": 4,
   "id": "74904d36-ce8f-40af-9ba5-1988d59611d5",
   "metadata": {},
   "outputs": [],
   "source": [
    "# Read the airline data into pandas dataframe\n",
    "spacex_df = pd.read_csv(\"https://cf-courses-data.s3.us.cloud-object-storage.appdomain.cloud/IBM-DS0321EN-SkillsNetwork/datasets/spacex_launch_dash.csv\")"
   ]
  },
  {
   "cell_type": "markdown",
   "id": "5f1c60d5-919d-4230-8465-029b340192f5",
   "metadata": {},
   "source": [
    "## Display sample data"
   ]
  },
  {
   "cell_type": "code",
   "execution_count": 6,
   "id": "fce1db7b-f803-4093-92cb-27cd07c85889",
   "metadata": {},
   "outputs": [
    {
     "data": {
      "text/html": [
       "<div>\n",
       "<style scoped>\n",
       "    .dataframe tbody tr th:only-of-type {\n",
       "        vertical-align: middle;\n",
       "    }\n",
       "\n",
       "    .dataframe tbody tr th {\n",
       "        vertical-align: top;\n",
       "    }\n",
       "\n",
       "    .dataframe thead th {\n",
       "        text-align: right;\n",
       "    }\n",
       "</style>\n",
       "<table border=\"1\" class=\"dataframe\">\n",
       "  <thead>\n",
       "    <tr style=\"text-align: right;\">\n",
       "      <th></th>\n",
       "      <th>Unnamed: 0</th>\n",
       "      <th>Flight Number</th>\n",
       "      <th>class</th>\n",
       "      <th>Payload Mass (kg)</th>\n",
       "    </tr>\n",
       "  </thead>\n",
       "  <tbody>\n",
       "    <tr>\n",
       "      <th>count</th>\n",
       "      <td>56.000000</td>\n",
       "      <td>56.000000</td>\n",
       "      <td>56.000000</td>\n",
       "      <td>56.000000</td>\n",
       "    </tr>\n",
       "    <tr>\n",
       "      <th>mean</th>\n",
       "      <td>27.500000</td>\n",
       "      <td>28.500000</td>\n",
       "      <td>0.428571</td>\n",
       "      <td>3696.648214</td>\n",
       "    </tr>\n",
       "    <tr>\n",
       "      <th>std</th>\n",
       "      <td>16.309506</td>\n",
       "      <td>16.309506</td>\n",
       "      <td>0.499350</td>\n",
       "      <td>2568.509679</td>\n",
       "    </tr>\n",
       "    <tr>\n",
       "      <th>min</th>\n",
       "      <td>0.000000</td>\n",
       "      <td>1.000000</td>\n",
       "      <td>0.000000</td>\n",
       "      <td>0.000000</td>\n",
       "    </tr>\n",
       "    <tr>\n",
       "      <th>25%</th>\n",
       "      <td>13.750000</td>\n",
       "      <td>14.750000</td>\n",
       "      <td>0.000000</td>\n",
       "      <td>2121.000000</td>\n",
       "    </tr>\n",
       "    <tr>\n",
       "      <th>50%</th>\n",
       "      <td>27.500000</td>\n",
       "      <td>28.500000</td>\n",
       "      <td>0.000000</td>\n",
       "      <td>3412.500000</td>\n",
       "    </tr>\n",
       "    <tr>\n",
       "      <th>75%</th>\n",
       "      <td>41.250000</td>\n",
       "      <td>42.250000</td>\n",
       "      <td>1.000000</td>\n",
       "      <td>5042.500000</td>\n",
       "    </tr>\n",
       "    <tr>\n",
       "      <th>max</th>\n",
       "      <td>55.000000</td>\n",
       "      <td>56.000000</td>\n",
       "      <td>1.000000</td>\n",
       "      <td>9600.000000</td>\n",
       "    </tr>\n",
       "  </tbody>\n",
       "</table>\n",
       "</div>"
      ],
      "text/plain": [
       "       Unnamed: 0  Flight Number      class  Payload Mass (kg)\n",
       "count   56.000000      56.000000  56.000000          56.000000\n",
       "mean    27.500000      28.500000   0.428571        3696.648214\n",
       "std     16.309506      16.309506   0.499350        2568.509679\n",
       "min      0.000000       1.000000   0.000000           0.000000\n",
       "25%     13.750000      14.750000   0.000000        2121.000000\n",
       "50%     27.500000      28.500000   0.000000        3412.500000\n",
       "75%     41.250000      42.250000   1.000000        5042.500000\n",
       "max     55.000000      56.000000   1.000000        9600.000000"
      ]
     },
     "execution_count": 6,
     "metadata": {},
     "output_type": "execute_result"
    }
   ],
   "source": [
    "spacex_df.describe()"
   ]
  },
  {
   "cell_type": "markdown",
   "id": "f769d63f-6e8f-4068-acc9-2fd74b99c390",
   "metadata": {},
   "source": [
    "## Display launch sites"
   ]
  },
  {
   "cell_type": "code",
   "execution_count": 8,
   "id": "5706897a-b3e8-4bd6-a68e-3b4d9fb2b60e",
   "metadata": {
    "scrolled": true
   },
   "outputs": [
    {
     "data": {
      "text/plain": [
       "array(['CCAFS LC-40', 'VAFB SLC-4E', 'KSC LC-39A', 'CCAFS SLC-40'],\n",
       "      dtype=object)"
      ]
     },
     "execution_count": 8,
     "metadata": {},
     "output_type": "execute_result"
    }
   ],
   "source": [
    "spacex_df['Launch Site'].unique()"
   ]
  },
  {
   "cell_type": "code",
   "execution_count": 9,
   "id": "682d48f9-9f24-4eb2-accc-6ac51b15c01f",
   "metadata": {},
   "outputs": [
    {
     "data": {
      "text/html": [
       "<div>\n",
       "<style scoped>\n",
       "    .dataframe tbody tr th:only-of-type {\n",
       "        vertical-align: middle;\n",
       "    }\n",
       "\n",
       "    .dataframe tbody tr th {\n",
       "        vertical-align: top;\n",
       "    }\n",
       "\n",
       "    .dataframe thead th {\n",
       "        text-align: right;\n",
       "    }\n",
       "</style>\n",
       "<table border=\"1\" class=\"dataframe\">\n",
       "  <thead>\n",
       "    <tr style=\"text-align: right;\">\n",
       "      <th></th>\n",
       "      <th>Launch Site</th>\n",
       "      <th>class</th>\n",
       "      <th>count</th>\n",
       "    </tr>\n",
       "  </thead>\n",
       "  <tbody>\n",
       "    <tr>\n",
       "      <th>0</th>\n",
       "      <td>CCAFS LC-40</td>\n",
       "      <td>1</td>\n",
       "      <td>7</td>\n",
       "    </tr>\n",
       "    <tr>\n",
       "      <th>1</th>\n",
       "      <td>CCAFS SLC-40</td>\n",
       "      <td>1</td>\n",
       "      <td>3</td>\n",
       "    </tr>\n",
       "    <tr>\n",
       "      <th>2</th>\n",
       "      <td>KSC LC-39A</td>\n",
       "      <td>1</td>\n",
       "      <td>10</td>\n",
       "    </tr>\n",
       "    <tr>\n",
       "      <th>3</th>\n",
       "      <td>VAFB SLC-4E</td>\n",
       "      <td>1</td>\n",
       "      <td>4</td>\n",
       "    </tr>\n",
       "  </tbody>\n",
       "</table>\n",
       "</div>"
      ],
      "text/plain": [
       "    Launch Site  class  count\n",
       "0   CCAFS LC-40      1      7\n",
       "1  CCAFS SLC-40      1      3\n",
       "2    KSC LC-39A      1     10\n",
       "3   VAFB SLC-4E      1      4"
      ]
     },
     "execution_count": 9,
     "metadata": {},
     "output_type": "execute_result"
    }
   ],
   "source": [
    "success_df= spacex_df[spacex_df['class'] == 1]\n",
    "success_df_grouped = success_df.groupby('Launch Site')['class'].value_counts().reset_index()\n",
    "success_df_grouped"
   ]
  },
  {
   "cell_type": "code",
   "execution_count": 18,
   "id": "fd7c1d79-2231-44b8-b4d7-12fa2305a380",
   "metadata": {},
   "outputs": [
    {
     "data": {
      "text/html": [
       "\n",
       "        <iframe\n",
       "            width=\"100%\"\n",
       "            height=\"650\"\n",
       "            src=\"http://127.0.0.1:8051/\"\n",
       "            frameborder=\"0\"\n",
       "            allowfullscreen\n",
       "            \n",
       "        ></iframe>\n",
       "        "
      ],
      "text/plain": [
       "<IPython.lib.display.IFrame at 0x15916ebca10>"
      ]
     },
     "metadata": {},
     "output_type": "display_data"
    }
   ],
   "source": [
    "\n",
    "max_paylaoad = spacex_df['Payload Mass (kg)'].max()\n",
    "min_payload = spacex_df['Payload Mass (kg)'].min()\n",
    "\n",
    "# Create a dash application\n",
    "app = dash.Dash(__name__)\n",
    "\n",
    "# Create an app layout\n",
    "app.layout = html.Div(children=[html.H1('SpaceX Launch Records Dashboard',\n",
    "                                        style={'textAlign': 'center', 'color': '#503D36',\n",
    "                                               'font-size': 40}),\n",
    "            # TASK 1: Add a dropdown list to enable Launch Site selection\n",
    "            # The default select value is for ALL sites\n",
    "            # dcc.Dropdown(id='site-dropdown',...)\n",
    "              dcc.Dropdown(id='site-dropdown',\n",
    "                    options=[\n",
    "                         {'label': 'All', 'value': 'ALL'},\n",
    "                        {'label': 'CCAFS LC-40', 'value': 'CCAFS LC-40'},\n",
    "                        {'label': 'VAFB SLC-4E', 'value': 'VAFB SLC-4E'},\n",
    "                         {'label': 'KSC LC-39A', 'value': 'KSC LC-39A'},\n",
    "                         {'label': 'CCAFS SLC-40', 'value': 'CCAFS SLC-40'}\n",
    "                    ],\n",
    "                    value='ALL',\n",
    "                    placeholder=\"place holder here\",\n",
    "                    searchable=True\n",
    "                    ),\n",
    "            html.Br(),\n",
    "\n",
    "            # TASK 2: Add a pie chart to show the total successful launches count for all sites\n",
    "            # If a specific launch site was selected, show the Success vs. Failed counts for the site\n",
    "            html.Div(dcc.Graph(id='success-pie-chart')),\n",
    "            html.Br(),\n",
    "           \n",
    "            html.P(\"Payload range (Kg):\"),\n",
    "            # TASK 3: Add a slider to select payload range\n",
    "            #dcc.RangeSlider(id='payload-slider',...)\n",
    "            dcc.RangeSlider(id='payload-slider',\n",
    "                min=0, max=10000, step=1000,\n",
    "                marks={0: '0',\n",
    "                       100: '100'},\n",
    "                value=[min_payload, max_paylaoad],\n",
    "                 tooltip={\"placement\": \"bottom\", \"always_visible\": True,\n",
    "                          \"template\": \"{value} Kg\"}),\n",
    "            \n",
    "\n",
    "            # TASK 4: Add a scatter chart to show the correlation between payload and launch success\n",
    "            html.Div(dcc.Graph(id='success-payload-scatter-chart')),\n",
    "            ])\n",
    "\n",
    "# TASK 2:\n",
    "# Add a callback function for `site-dropdown` as input, `success-pie-chart` as output\n",
    "@app.callback(\n",
    "    Output(component_id='success-pie-chart', component_property='figure'),\n",
    "    Input(component_id='site-dropdown',component_property='value'))\n",
    "\n",
    "def get_pie_chart(entered_site):\n",
    "    if entered_site == 'ALL':\n",
    "        success_df= spacex_df[spacex_df['class'] == 1]\n",
    "        success_df_grouped = success_df.groupby('Launch Site')['class'].value_counts().reset_index()\n",
    "        success_df_grouped\n",
    "        \n",
    "        fig = px.pie(\n",
    "            success_df_grouped, \n",
    "            values='count', \n",
    "            names='Launch Site', \n",
    "            title='Total Success vs Failure for All Sites'\n",
    "        )\n",
    "        \n",
    "        return fig\n",
    "    \n",
    "    else:\n",
    "        \n",
    "        site_df = spacex_df[spacex_df['Launch Site'] == entered_site]\n",
    "        site_counts = site_df['class'].value_counts().reset_index()\n",
    "        fig = px.pie(\n",
    "            site_counts, \n",
    "            values='count', \n",
    "            names='class', \n",
    "            title=f'Success vs Failure for {entered_site}'\n",
    "        )\n",
    "        return fig\n",
    "\n",
    "        \n",
    "        \n",
    "        # return the outcomes piechart for a selected site\n",
    "# TASK 4:\n",
    "# Add a callback function for `site-dropdown` and `payload-slider` as inputs, `success-payload-scatter-chart` as output\n",
    "@app.callback( \n",
    "    Output(component_id='success-payload-scatter-chart', component_property='figure'),\n",
    "    Input(component_id='site-dropdown', component_property='value'),\n",
    "    Input(component_id='payload-slider', component_property='value')\n",
    ")\n",
    "def update_scatter(selected_site, payload_range):\n",
    "    filtered_df = spacex_df[ (spacex_df['Payload Mass (kg)'] >= payload_range[0]) & (spacex_df['Payload Mass (kg)'] <= payload_range[1]) ]\n",
    "    if selected_site == 'ALL':\n",
    "       fig = px.scatter(\n",
    "            filtered_df, \n",
    "            x='Payload Mass (kg)',\n",
    "            y='class',\n",
    "            title='Payload Mass (kg) vs Success for All Sites',\n",
    "           color=\"Booster Version Category\"\n",
    "        )\n",
    "       return fig\n",
    "    else:\n",
    "       site_df = filtered_df[spacex_df['Launch Site']==selected_site]\n",
    "       fig = px.scatter(\n",
    "            site_df, \n",
    "            x='Payload Mass (kg)',\n",
    "            y='class',\n",
    "            title=f'Payload Mass (kg) vs Success for {selected_site}',\n",
    "           color=\"Booster Version Category\"\n",
    "        )\n",
    "\n",
    "       \n",
    "       return fig\n",
    "\n",
    "\n",
    "\n",
    "# Run the app\n",
    "if __name__ == '__main__':\n",
    "    app.run(mode='inline', port=8051)\n",
    "\n",
    "#app.run(mode='inline', port=8050)"
   ]
  },
  {
   "cell_type": "code",
   "execution_count": null,
   "id": "dffd1ab3-e382-41a2-908d-f54558b702b6",
   "metadata": {},
   "outputs": [],
   "source": []
  }
 ],
 "metadata": {
  "kernelspec": {
   "display_name": "Python [conda env:base] *",
   "language": "python",
   "name": "conda-base-py"
  },
  "language_info": {
   "codemirror_mode": {
    "name": "ipython",
    "version": 3
   },
   "file_extension": ".py",
   "mimetype": "text/x-python",
   "name": "python",
   "nbconvert_exporter": "python",
   "pygments_lexer": "ipython3",
   "version": "3.12.7"
  }
 },
 "nbformat": 4,
 "nbformat_minor": 5
}
